{
 "cells": [
  {
   "cell_type": "code",
   "execution_count": 244,
   "metadata": {
    "collapsed": true
   },
   "outputs": [],
   "source": [
    "# Train data set.\n",
    "train = [\n",
    "    \"fun pool party with lots of activities, aqua sports and slides\",\n",
    "    \"aqua sports and activities at the pool\",\n",
    "    \"water pooling and water activities by the pool\",\n",
    "    \"nightclub party with dancing and drinking\",\n",
    "    \"club music fun with friends at night\",\n",
    "    \"dancing party at the club with free drinks\",\n",
    "    \"study at the library to get your masters degree\",\n",
    "    \"quiet place to study and read books at library\",\n",
    "    \"study in peace at a library fill with books\"\n",
    "]\n",
    "\n",
    "# Target data set.\n",
    "target = [\"pool\", \"pool\", \"pool\", \"club\", \"club\", \"club\", \"study\", \"study\", \"study\"]"
   ]
  },
  {
   "cell_type": "code",
   "execution_count": 245,
   "metadata": {
    "collapsed": false
   },
   "outputs": [
    {
     "data": {
      "text/plain": [
       "(9, 39)"
      ]
     },
     "execution_count": 245,
     "metadata": {},
     "output_type": "execute_result"
    }
   ],
   "source": [
    "####### Count occurences #######\n",
    "\n",
    "# Import tokenizer.\n",
    "from sklearn.feature_extraction.text import CountVectorizer\n",
    "tokenizer = CountVectorizer()\n",
    "\n",
    "# Convert a collection of text documents to a matrix of token counts.\n",
    "X_train_counts = tokenizer.fit_transform(train)\n",
    "X_train_counts.shape"
   ]
  },
  {
   "cell_type": "code",
   "execution_count": 246,
   "metadata": {
    "collapsed": false
   },
   "outputs": [
    {
     "data": {
      "text/plain": [
       "(9, 39)"
      ]
     },
     "execution_count": 246,
     "metadata": {},
     "output_type": "execute_result"
    }
   ],
   "source": [
    "####### Transform from occurences to frequences #######\n",
    "\n",
    "# TF Example.\n",
    "from sklearn.feature_extraction.text import TfidfTransformer\n",
    "tf_transformer = TfidfTransformer(use_idf=False).fit(X_train_counts)\n",
    "X_train_tf = tf_transformer.transform(X_train_counts)\n",
    "X_train_tf.shape"
   ]
  },
  {
   "cell_type": "code",
   "execution_count": 250,
   "metadata": {
    "collapsed": false
   },
   "outputs": [
    {
     "data": {
      "text/plain": [
       "(9, 39)"
      ]
     },
     "execution_count": 250,
     "metadata": {},
     "output_type": "execute_result"
    }
   ],
   "source": [
    "# TF-IDF example.\n",
    "tfidf_transformer = TfidfTransformer()\n",
    "X_train_tfidf = tfidf_transformer.fit_transform(X_train_counts)\n",
    "X_train_tfidf.shape"
   ]
  },
  {
   "cell_type": "code",
   "execution_count": 248,
   "metadata": {
    "collapsed": false
   },
   "outputs": [],
   "source": [
    "from sklearn.naive_bayes import MultinomialNB\n",
    "clf = MultinomialNB().fit(X_train_tfidf, target)"
   ]
  },
  {
   "cell_type": "code",
   "execution_count": 249,
   "metadata": {
    "collapsed": false
   },
   "outputs": [
    {
     "name": "stdout",
     "output_type": "stream",
     "text": [
      "['study' 'club' 'club' 'pool']\n"
     ]
    }
   ],
   "source": [
    "docs_new = [\"library party\", \"party nights\", \"dancing\", \"water party\"]\n",
    "X_new_counts = tokenizer.transform(docs_new)\n",
    "X_new_tfidf = tfidf_transformer.transform(X_new_counts)\n",
    "\n",
    "predicted = clf.predict(X_new_tfidf)\n",
    "\n",
    "print predicted"
   ]
  },
  {
   "cell_type": "code",
   "execution_count": null,
   "metadata": {
    "collapsed": true
   },
   "outputs": [],
   "source": []
  }
 ],
 "metadata": {
  "kernelspec": {
   "display_name": "Python [Root]",
   "language": "python",
   "name": "Python [Root]"
  },
  "language_info": {
   "codemirror_mode": {
    "name": "ipython",
    "version": 2
   },
   "file_extension": ".py",
   "mimetype": "text/x-python",
   "name": "python",
   "nbconvert_exporter": "python",
   "pygments_lexer": "ipython2",
   "version": "2.7.12"
  }
 },
 "nbformat": 4,
 "nbformat_minor": 0
}
