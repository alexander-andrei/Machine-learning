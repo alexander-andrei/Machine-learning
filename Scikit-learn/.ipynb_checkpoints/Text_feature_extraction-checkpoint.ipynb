{
 "cells": [
  {
   "cell_type": "code",
   "execution_count": 282,
   "metadata": {
    "collapsed": true
   },
   "outputs": [],
   "source": [
    "# Train data set.\n",
    "train = [\n",
    "    \"fun pool party with lots of activities, aqua sports and slides\",\n",
    "    \"aqua sports and activities at the pool\",\n",
    "    \"water pooling and water activities by the pool\",\n",
    "    \"nightclub party with dancing and drinking\",\n",
    "    \"club music fun with friends at night\",\n",
    "    \"dancing party at the club with free drinks\",\n",
    "    \"study at the library to get your masters degree\",\n",
    "    \"quiet place to study and read books at library\",\n",
    "    \"study in peace at a library fill with books\"\n",
    "]\n",
    "\n",
    "# Target data set.\n",
    "target = [\"pool\", \"pool\", \"pool\", \"club\", \"club\", \"club\", \"study\", \"study\", \"study\"]"
   ]
  },
  {
   "cell_type": "code",
   "execution_count": 283,
   "metadata": {
    "collapsed": false
   },
   "outputs": [
    {
     "data": {
      "text/plain": [
       "(9, 39)"
      ]
     },
     "execution_count": 283,
     "metadata": {},
     "output_type": "execute_result"
    }
   ],
   "source": [
    "####### Count occurences #######\n",
    "\n",
    "# Import tokenizer.\n",
    "from sklearn.feature_extraction.text import CountVectorizer\n",
    "tokenizer = CountVectorizer()\n",
    "\n",
    "# Convert a collection of text documents to a matrix of token counts.\n",
    "tokenize_counts = tokenizer.fit_transform(train)\n",
    "tokenize_counts.shape"
   ]
  },
  {
   "cell_type": "code",
   "execution_count": 284,
   "metadata": {
    "collapsed": false
   },
   "outputs": [
    {
     "data": {
      "text/plain": [
       "(9, 39)"
      ]
     },
     "execution_count": 284,
     "metadata": {},
     "output_type": "execute_result"
    }
   ],
   "source": [
    "####### Transform from occurences to frequences #######\n",
    "\n",
    "# TF Example.\n",
    "from sklearn.feature_extraction.text import TfidfTransformer\n",
    "tf_transformer = TfidfTransformer(use_idf=False).fit(tokenize_counts)\n",
    "train_tf = tf_transformer.transform(tokenize_counts)\n",
    "train_tf.shape"
   ]
  },
  {
   "cell_type": "code",
   "execution_count": 285,
   "metadata": {
    "collapsed": false
   },
   "outputs": [
    {
     "data": {
      "text/plain": [
       "(9, 39)"
      ]
     },
     "execution_count": 285,
     "metadata": {},
     "output_type": "execute_result"
    }
   ],
   "source": [
    "# TF-IDF example.\n",
    "tfidf_transformer = TfidfTransformer()\n",
    "train_tfidf = tfidf_transformer.fit_transform(tokenize_counts)\n",
    "train_tfidf.shape"
   ]
  },
  {
   "cell_type": "code",
   "execution_count": 286,
   "metadata": {
    "collapsed": false
   },
   "outputs": [],
   "source": [
    "# Use Naive Bayes classifier.\n",
    "\n",
    "from sklearn.naive_bayes import MultinomialNB\n",
    "clf = MultinomialNB().fit(train_tfidf, target)"
   ]
  },
  {
   "cell_type": "code",
   "execution_count": 287,
   "metadata": {
    "collapsed": false
   },
   "outputs": [
    {
     "name": "stdout",
     "output_type": "stream",
     "text": [
      "['study' 'club' 'club' 'pool']\n"
     ]
    }
   ],
   "source": [
    "# Prediction example.\n",
    "\n",
    "docs_new = [\"library party\"]\n",
    "tokenize_search_docs = tokenizer.transform(docs_new)\n",
    "search_docs_tfidf = tfidf_transformer.transform(tokenize_search_docs)\n",
    "\n",
    "predicted = clf.predict(search_docs_tfidf)\n",
    "\n",
    "print predicted"
   ]
  },
  {
   "cell_type": "code",
   "execution_count": null,
   "metadata": {
    "collapsed": true
   },
   "outputs": [],
   "source": []
  }
 ],
 "metadata": {
  "kernelspec": {
   "display_name": "Python [Root]",
   "language": "python",
   "name": "Python [Root]"
  },
  "language_info": {
   "codemirror_mode": {
    "name": "ipython",
    "version": 2
   },
   "file_extension": ".py",
   "mimetype": "text/x-python",
   "name": "python",
   "nbconvert_exporter": "python",
   "pygments_lexer": "ipython2",
   "version": "2.7.12"
  }
 },
 "nbformat": 4,
 "nbformat_minor": 0
}
