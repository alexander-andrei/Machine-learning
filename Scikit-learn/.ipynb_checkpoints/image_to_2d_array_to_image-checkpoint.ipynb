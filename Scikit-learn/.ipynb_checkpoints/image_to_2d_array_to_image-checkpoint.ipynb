{
 "cells": [
  {
   "cell_type": "code",
   "execution_count": 15,
   "metadata": {
    "collapsed": false
   },
   "outputs": [
    {
     "ename": "IndexError",
     "evalue": "tuple index out of range",
     "output_type": "error",
     "traceback": [
      "\u001b[0;31m---------------------------------------------------------------------------\u001b[0m",
      "\u001b[0;31mIndexError\u001b[0m                                Traceback (most recent call last)",
      "\u001b[0;32m<ipython-input-15-7ee5cee2629a>\u001b[0m in \u001b[0;36m<module>\u001b[0;34m()\u001b[0m\n\u001b[1;32m      4\u001b[0m \u001b[0mcat1\u001b[0m\u001b[0;34m=\u001b[0m\u001b[0masarray\u001b[0m\u001b[0;34m(\u001b[0m\u001b[0mImage\u001b[0m\u001b[0;34m.\u001b[0m\u001b[0mopen\u001b[0m\u001b[0;34m(\u001b[0m\u001b[0;34m'cat.jpg'\u001b[0m\u001b[0;34m)\u001b[0m\u001b[0;34m)\u001b[0m\u001b[0;34m\u001b[0m\u001b[0m\n\u001b[1;32m      5\u001b[0m \u001b[0mx\u001b[0m\u001b[0;34m=\u001b[0m\u001b[0mtemp\u001b[0m\u001b[0;34m.\u001b[0m\u001b[0mshape\u001b[0m\u001b[0;34m[\u001b[0m\u001b[0;36m0\u001b[0m\u001b[0;34m]\u001b[0m\u001b[0;34m\u001b[0m\u001b[0m\n\u001b[0;32m----> 6\u001b[0;31m \u001b[0my\u001b[0m\u001b[0;34m=\u001b[0m\u001b[0mtemp\u001b[0m\u001b[0;34m.\u001b[0m\u001b[0mshape\u001b[0m\u001b[0;34m[\u001b[0m\u001b[0;36m1\u001b[0m\u001b[0;34m]\u001b[0m\u001b[0;34m*\u001b[0m\u001b[0mtemp\u001b[0m\u001b[0;34m.\u001b[0m\u001b[0mshape\u001b[0m\u001b[0;34m[\u001b[0m\u001b[0;36m2\u001b[0m\u001b[0;34m]\u001b[0m\u001b[0;34m\u001b[0m\u001b[0m\n\u001b[0m\u001b[1;32m      7\u001b[0m \u001b[0mcat1\u001b[0m\u001b[0;34m.\u001b[0m\u001b[0mresize\u001b[0m\u001b[0;34m(\u001b[0m\u001b[0;34m(\u001b[0m\u001b[0mx\u001b[0m\u001b[0;34m,\u001b[0m\u001b[0my\u001b[0m\u001b[0;34m)\u001b[0m\u001b[0;34m)\u001b[0m \u001b[0;31m# a 2D array\u001b[0m\u001b[0;34m\u001b[0m\u001b[0m\n\u001b[1;32m      8\u001b[0m \u001b[0;34m\u001b[0m\u001b[0m\n",
      "\u001b[0;31mIndexError\u001b[0m: tuple index out of range"
     ]
    }
   ],
   "source": [
    "from PIL import Image\n",
    "from numpy import*\n",
    "\n",
    "cat1=asarray(Image.open('cat.jpg'))\n",
    "x=cat1.shape[0]\n",
    "y=cat1.shape[1]*temp.shape[2]\n",
    "cat1.resize((x,y)) # a 2D array\n",
    "\n",
    "cat2=asarray(Image.open('cat2.jpg'))\n",
    "x=cat2.shape[0]\n",
    "y=cat2.shape[1]*temp.shape[2]\n",
    "cat2.resize((x,y)) # a 2D array\n",
    "\n",
    "cat3=asarray(Image.open('cat3.jpg'))\n",
    "x=cat3.shape[0]\n",
    "y=cat3.shape[1]*temp.shape[2]\n",
    "cat3.resize((x,y)) # a 2D array\n",
    "\n",
    "dog1=asarray(Image.open('dog.jpg'))\n",
    "x=dog1.shape[0]\n",
    "y=dog1.shape[1]*temp.shape[2]\n",
    "dog1.resize((x,y)) # a 2D array\n",
    "\n",
    "dog2=asarray(Image.open('dog2.jpg'))\n",
    "x=dog2.shape[0]\n",
    "y=dog2.shape[1]*temp.shape[2]\n",
    "dog2.resize((x,y)) # a 2D array\n",
    "\n",
    "dog3=asarray(Image.open('dog3.jpg'))\n",
    "x=dog3.shape[0]\n",
    "y=dog3.shape[1]*temp.shape[2]\n",
    "dog3.resize((x,y)) # a 2D array\n",
    "\n",
    "\n",
    "\n",
    "test_cat=asarray(Image.open('test-cat.jpg'))\n",
    "x=test_cat.shape[0]\n",
    "y=test_cat.shape[1]*temp.shape[2]\n",
    "test_cat.resize((x,y)) # a 2D array\n",
    "\n",
    "test_dog=asarray(Image.open('test-dog.jpg'))\n",
    "x=test_dog.shape[0]\n",
    "y=test_dog.shape[1]*temp.shape[2]\n",
    "test_dog.resize((x,y)) # a 2D array\n"
   ]
  },
  {
   "cell_type": "code",
   "execution_count": 13,
   "metadata": {
    "collapsed": false
   },
   "outputs": [],
   "source": [
    "# from matplotlib import pyplot as plt\n",
    "# plt.imshow(temp)\n",
    "# plt.show()"
   ]
  },
  {
   "cell_type": "code",
   "execution_count": null,
   "metadata": {
    "collapsed": true
   },
   "outputs": [],
   "source": [
    "from sklearn import svm\n",
    "clf = svm.SVC(gamma=0.001, C=100.)"
   ]
  }
 ],
 "metadata": {
  "kernelspec": {
   "display_name": "Python [Root]",
   "language": "python",
   "name": "Python [Root]"
  },
  "language_info": {
   "codemirror_mode": {
    "name": "ipython",
    "version": 2
   },
   "file_extension": ".py",
   "mimetype": "text/x-python",
   "name": "python",
   "nbconvert_exporter": "python",
   "pygments_lexer": "ipython2",
   "version": "2.7.12"
  }
 },
 "nbformat": 4,
 "nbformat_minor": 0
}
