{
 "cells": [
  {
   "cell_type": "code",
   "execution_count": 1,
   "metadata": {
    "collapsed": false
   },
   "outputs": [],
   "source": [
    "###########IMAGE CONVERTMETHODS############\n",
    "# cat_image = Image.open('cats_dogs/cat.jpg')\n",
    "# cat = numpy.array(cat_image.convert('L'))\n",
    "# cat_no_bow = numpy.array(cat_image)\n",
    "###########################################\n",
    "\n",
    "import matplotlib.pyplot as plt\n",
    "import numpy\n",
    "\n",
    "from PIL import Image\n",
    "from skimage.feature import hog\n",
    "from skimage import data, color, exposure\n",
    "\n",
    "def get_image_feature(image):\n",
    "    image = color.rgb2gray(image)\n",
    "\n",
    "    fd, hog_image = hog(image, orientations=8, pixels_per_cell=(16, 16),\n",
    "                        cells_per_block=(1, 1), visualise=True)\n",
    "\n",
    "#     fig, (ax1, ax2) = plt.subplots(1, 2, figsize=(8, 4), sharex=True, sharey=True)\n",
    "\n",
    "#     ax1.axis('off')\n",
    "#     ax1.imshow(image, cmap=plt.cm.gray)\n",
    "#     ax1.set_title('Input image')\n",
    "#     ax1.set_adjustable('box-forced')\n",
    "\n",
    "#     # Rescale histogram for better display\n",
    "#     hog_image_rescaled = exposure.rescale_intensity(hog_image, in_range=(0, 0.02))\n",
    "\n",
    "#     ax2.axis('off')\n",
    "#     ax2.imshow(hog_image_rescaled, cmap=plt.cm.gray)\n",
    "#     ax2.set_title('Histogram of Oriented Gradients')\n",
    "#     ax1.set_adjustable('box-forced')\n",
    "#     plt.show()\n",
    "    \n",
    "    return hog_image"
   ]
  },
  {
   "cell_type": "code",
   "execution_count": 2,
   "metadata": {
    "collapsed": false
   },
   "outputs": [],
   "source": [
    "#Get cat images\n",
    "cat1 = numpy.array(Image.open('cats_dogs/cat1.jpg'))\n",
    "cat2 = numpy.array(Image.open('cats_dogs/cat2.jpg'))\n",
    "cat3 = numpy.array(Image.open('cats_dogs/cat3.jpg'))\n",
    "cat_test = numpy.array(Image.open('cats_dogs/cat-test.jpg'))"
   ]
  },
  {
   "cell_type": "code",
   "execution_count": 3,
   "metadata": {
    "collapsed": false
   },
   "outputs": [],
   "source": [
    "#Get dog images\n",
    "dog1 = numpy.array(Image.open('cats_dogs/dog1.jpg'))\n",
    "dog2 = numpy.array(Image.open('cats_dogs/dog2.jpg'))\n",
    "dog3 = numpy.array(Image.open('cats_dogs/dog3.jpg'))\n",
    "dog_test = numpy.array(Image.open('cats_dogs/dog-test.jpg'))"
   ]
  },
  {
   "cell_type": "code",
   "execution_count": 4,
   "metadata": {
    "collapsed": false
   },
   "outputs": [],
   "source": [
    "#Get cat features\n",
    "cat1_feature = get_image_feature(cat1).ravel()\n",
    "cat2_feature = get_image_feature(cat2).ravel()\n",
    "cat3_feature = get_image_feature(cat3).ravel()\n",
    "cat_test_feature = get_image_feature(cat_test).ravel()"
   ]
  },
  {
   "cell_type": "code",
   "execution_count": 5,
   "metadata": {
    "collapsed": false
   },
   "outputs": [],
   "source": [
    "#Get dog features\n",
    "dog1_feature = get_image_feature(dog1).ravel()\n",
    "dog2_feature = get_image_feature(dog2).ravel()\n",
    "dog3_feature = get_image_feature(dog3).ravel()\n",
    "dog_test_feature = get_image_feature(dog_test).ravel()"
   ]
  },
  {
   "cell_type": "code",
   "execution_count": 6,
   "metadata": {
    "collapsed": false
   },
   "outputs": [
    {
     "name": "stderr",
     "output_type": "stream",
     "text": [
      "/home/andreicaprar/miniconda2/lib/python2.7/site-packages/sklearn/utils/validation.py:386: DeprecationWarning: Passing 1d arrays as data is deprecated in 0.17 and willraise ValueError in 0.19. Reshape your data either using X.reshape(-1, 1) if your data has a single feature or X.reshape(1, -1) if it contains a single sample.\n",
      "  DeprecationWarning)\n"
     ]
    },
    {
     "data": {
      "text/plain": [
       "array(['cat'], \n",
       "      dtype='|S3')"
      ]
     },
     "execution_count": 6,
     "metadata": {},
     "output_type": "execute_result"
    }
   ],
   "source": [
    "from sklearn import svm\n",
    "clf = svm.SVC(gamma=0.001, C=100.)\n",
    "clf.fit([cat_test_feature, cat2_feature, cat3_feature, dog1_feature, dog2_feature, dog3_feature], \n",
    "        ['cat', 'cat', 'cat', 'dog', 'dog', 'dog'])\n",
    "clf.predict(cat_test_feature)"
   ]
  },
  {
   "cell_type": "code",
   "execution_count": null,
   "metadata": {
    "collapsed": true
   },
   "outputs": [],
   "source": []
  }
 ],
 "metadata": {
  "kernelspec": {
   "display_name": "Python [Root]",
   "language": "python",
   "name": "Python [Root]"
  },
  "language_info": {
   "codemirror_mode": {
    "name": "ipython",
    "version": 2
   },
   "file_extension": ".py",
   "mimetype": "text/x-python",
   "name": "python",
   "nbconvert_exporter": "python",
   "pygments_lexer": "ipython2",
   "version": "2.7.12"
  }
 },
 "nbformat": 4,
 "nbformat_minor": 0
}
